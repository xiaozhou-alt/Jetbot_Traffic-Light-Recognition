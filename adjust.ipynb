{
 "cells": [
  {
   "cell_type": "code",
   "execution_count": 1,
   "metadata": {},
   "outputs": [
    {
     "data": {
      "application/vnd.jupyter.widget-view+json": {
       "model_id": "76afa0fb8c214fb3ad45ec6bed35af26",
       "version_major": 2,
       "version_minor": 0
      },
      "text/plain": [
       "VBox(children=(VBox(children=(IntSlider(value=0, description='H min', max=180), IntSlider(value=10, descriptio…"
      ]
     },
     "metadata": {},
     "output_type": "display_data"
    }
   ],
   "source": [
    "from jetbot import Camera, bgr8_to_jpeg\n",
    "import ipywidgets.widgets as widgets\n",
    "import traitlets\n",
    "import numpy as np\n",
    "import cv2\n",
    "\n",
    "# 初始化相机\n",
    "camera = Camera.instance(width=720, height=720)\n",
    "\n",
    "# 创建显示控件\n",
    "image_widget = widgets.Image(format='jpeg', width=360, height=360)\n",
    "mask_widget = widgets.Image(format='jpeg', width=360, height=360)\n",
    "result_widget = widgets.Image(format='jpeg', width=360, height=360)\n",
    "\n",
    "# 创建滑块控件\n",
    "h_low = widgets.IntSlider(min=0, max=180, value=0, description='H min')\n",
    "h_high = widgets.IntSlider(min=0, max=180, value=10, description='H max')\n",
    "s_low = widgets.IntSlider(min=0, max=255, value=43, description='S min')\n",
    "s_high = widgets.IntSlider(min=0, max=255, value=255, description='S max')\n",
    "v_low = widgets.IntSlider(min=0, max=255, value=46, description='V min')\n",
    "v_high = widgets.IntSlider(min=0, max=255, value=255, description='V max')\n",
    "\n",
    "# 布局\n",
    "controls = widgets.VBox([h_low, h_high, s_low, s_high, v_low, v_high])\n",
    "images = widgets.HBox([image_widget, mask_widget, result_widget])\n",
    "ui = widgets.VBox([controls, images])\n",
    "\n",
    "def update_image(change):\n",
    "    # 获取当前帧\n",
    "    frame = camera.value\n",
    "    \n",
    "    # 转换为HSV\n",
    "    hsv = cv2.cvtColor(frame, cv2.COLOR_BGR2HSV)\n",
    "    \n",
    "    # 获取当前阈值\n",
    "    lower = np.array([h_low.value, s_low.value, v_low.value])\n",
    "    upper = np.array([h_high.value, s_high.value, v_high.value])\n",
    "    \n",
    "    # 创建掩膜\n",
    "    mask = cv2.inRange(hsv, lower, upper)\n",
    "    \n",
    "    # 应用掩膜\n",
    "    result = cv2.bitwise_and(frame, frame, mask=mask)\n",
    "    \n",
    "    # 显示图像\n",
    "    image_widget.value = bgr8_to_jpeg(frame)\n",
    "    mask_widget.value = bgr8_to_jpeg(cv2.cvtColor(mask, cv2.COLOR_GRAY2BGR))\n",
    "    result_widget.value = bgr8_to_jpeg(result)\n",
    "\n",
    "# 绑定滑块事件\n",
    "for slider in [h_low, h_high, s_low, s_high, v_low, v_high]:\n",
    "    slider.observe(update_image, names='value')\n",
    "\n",
    "# 初始更新\n",
    "update_image(None)\n",
    "\n",
    "# 显示UI\n",
    "display(ui)"
   ]
  },
  {
   "cell_type": "code",
   "execution_count": null,
   "metadata": {},
   "outputs": [],
   "source": []
  }
 ],
 "metadata": {
  "kernelspec": {
   "display_name": "Python 3",
   "language": "python",
   "name": "python3"
  },
  "language_info": {
   "codemirror_mode": {
    "name": "ipython",
    "version": 3
   },
   "file_extension": ".py",
   "mimetype": "text/x-python",
   "name": "python",
   "nbconvert_exporter": "python",
   "pygments_lexer": "ipython3",
   "version": "3.6.9"
  }
 },
 "nbformat": 4,
 "nbformat_minor": 4
}
