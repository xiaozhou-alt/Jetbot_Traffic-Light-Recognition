{
 "cells": [
  {
   "cell_type": "markdown",
   "metadata": {},
   "source": [
    "## 导入相关包，创建相机实例"
   ]
  },
  {
   "cell_type": "code",
   "execution_count": null,
   "metadata": {},
   "outputs": [],
   "source": [
    "from jetbot import Camera\n",
    "from jetbot import bgr8_to_jpeg\n",
    "from jetbot import Robot\n",
    "import PID\n",
    "camera = Camera.instance(width=720, height=720)"
   ]
  },
  {
   "cell_type": "markdown",
   "metadata": {},
   "source": [
    "## 创建相关控制变量"
   ]
  },
  {
   "cell_type": "code",
   "execution_count": null,
   "metadata": {},
   "outputs": [],
   "source": [
    "global color_x, color_y, color_radius\n",
    "color_x = color_y = color_radius = 0\n",
    "global target_valuex\n",
    "target_valuex = 2100\n",
    "global target_valuey\n",
    "target_valuey = 2048"
   ]
  },
  {
   "cell_type": "markdown",
   "metadata": {},
   "source": [
    "## 创建存储HSV色域颜色分类数据的数组"
   ]
  },
  {
   "cell_type": "code",
   "execution_count": null,
   "metadata": {},
   "outputs": [],
   "source": [
    "import numpy as np\n",
    "global color_lower\n",
    "color_lower=np.array([156,43,46])\n",
    "global color_upperv\n",
    "color_upper = np.array([180, 255, 255])"
   ]
  },
  {
   "cell_type": "markdown",
   "metadata": {},
   "source": [
    "## 创建PID控制实例"
   ]
  },
  {
   "cell_type": "code",
   "execution_count": null,
   "metadata": {},
   "outputs": [],
   "source": [
    "xservo_pid = PID.PositionalPID(1.9, 0.3, 0.35)\n",
    "yservo_pid = PID.PositionalPID(1.5, 0.2, 0.3)"
   ]
  },
  {
   "cell_type": "markdown",
   "metadata": {},
   "source": [
    "## 创建云台总线舵机实例"
   ]
  },
  {
   "cell_type": "code",
   "execution_count": null,
   "metadata": {},
   "outputs": [],
   "source": [
    "from servoserial import ServoSerial\n",
    "servo_device = ServoSerial() "
   ]
  },
  {
   "cell_type": "markdown",
   "metadata": {},
   "source": [
    "## 创建显示控件"
   ]
  },
  {
   "cell_type": "code",
   "execution_count": null,
   "metadata": {},
   "outputs": [],
   "source": [
    "import cv2\n",
    "import traitlets\n",
    "import ipywidgets.widgets as widgets\n",
    "from IPython.display import display\n",
    "color_image = widgets.Image(format='jpeg', width=300, height=300)\n",
    "display(color_image)"
   ]
  },
  {
   "cell_type": "markdown",
   "metadata": {},
   "source": [
    "## 云台运动主进程"
   ]
  },
  {
   "cell_type": "code",
   "execution_count": null,
   "metadata": {},
   "outputs": [],
   "source": [
    "from time import sleep\n",
    "robot = Robot()\n",
    "robot.forward(1)#Jetbot前进"
   ]
  },
  {
   "cell_type": "code",
   "execution_count": null,
   "metadata": {},
   "outputs": [],
   "source": [
    "from RGB_Lib import Programing_RGB\n",
    "RGB = Programing_RGB()\n",
    "\n",
    "# 定义颜色范围\n",
    "red_lower = np.array([120, 77, 112])\n",
    "red_upper = np.array([180, 168, 248])\n",
    "green_lower = np.array([52, 110, 48])\n",
    "green_upper = np.array([180, 255, 163])\n",
    "yellow_lower = np.array([17, 79, 100])\n",
    "yellow_upper = np.array([61, 152, 255])\n",
    "\n",
    "# 颜色处理函数\n",
    "def process_color(frame, color_lower, color_upper):\n",
    "    frame_ = cv2.GaussianBlur(frame, (5,5), 0)\n",
    "    hsv = cv2.cvtColor(frame, cv2.COLOR_BGR2HSV)\n",
    "    mask = cv2.inRange(hsv, color_lower, color_upper)\n",
    "    mask = cv2.erode(mask, None, iterations=2)\n",
    "    mask = cv2.dilate(mask, None, iterations=2)\n",
    "    mask = cv2.GaussianBlur(mask, (3,3), 0)\n",
    "    cnts = cv2.findContours(mask.copy(), cv2.RETR_EXTERNAL, cv2.CHAIN_APPROX_SIMPLE)[-2]\n",
    "    return cnts\n",
    "\n",
    "while True:\n",
    "    frame = camera.value\n",
    "    frame = cv2.resize(frame, (300, 300))\n",
    "    \n",
    "    # 检测红色\n",
    "    red_cnts = process_color(frame, red_lower, red_upper)\n",
    "    if len(red_cnts) > 0:\n",
    "        cnt = max(red_cnts, key=cv2.contourArea)\n",
    "        (color_x, color_y), color_radius = cv2.minEnclosingCircle(cnt)\n",
    "        if color_radius > 10:\n",
    "            cv2.circle(frame, (int(color_x), int(color_y)), int(color_radius), (0, 0, 255), 2)\n",
    "            # TODO: 红色反应逻辑 - 停止\n",
    "            # servo_device.Servo_serial_double_control(1, 停止位置, 2, 停止位置)\n",
    "            print(\"检测到红色 - 停止\")\n",
    "            sleep(0.5)\n",
    "            RGB.Set_All_RGB(0xFF, 0x00, 0x00)\n",
    "            robot.stop()  #停止Jetbot\n",
    "            \n",
    "    # 检测绿色\n",
    "    green_cnts = process_color(frame, green_lower, green_upper)\n",
    "    if len(green_cnts) > 0:\n",
    "        cnt = max(green_cnts, key=cv2.contourArea)\n",
    "        (color_x, color_y), color_radius = cv2.minEnclosingCircle(cnt)\n",
    "        if color_radius > 10:\n",
    "            cv2.circle(frame, (int(color_x), int(color_y)), int(color_radius), (0, 255, 0), 2)\n",
    "            # TODO: 绿色反应逻辑 - 前进\n",
    "            # servo_device.Servo_serial_double_control(1, 前进位置, 2, 前进位置)\n",
    "            print(\"检测到绿色 - 前进\")\n",
    "            sleep(0.5)\n",
    "            robot.forward(1)  #Jetbot前进\n",
    "            RGB.Set_All_RGB(0x00, 0xFF, 0x00)\n",
    "    \n",
    "    # 检测黄色\n",
    "    yellow_cnts = process_color(frame, yellow_lower, yellow_upper)\n",
    "    if len(yellow_cnts) > 0:\n",
    "        cnt = max(yellow_cnts, key=cv2.contourArea)\n",
    "        (color_x, color_y), color_radius = cv2.minEnclosingCircle(cnt)\n",
    "        if color_radius > 10:\n",
    "            cv2.circle(frame, (int(color_x), int(color_y)), int(color_radius), (0, 255, 255), 2)\n",
    "            # TODO: 黄色反应逻辑 - 减速\n",
    "            print(\"检测到黄色 - 减速\")\n",
    "            sleep(0.5)\n",
    "            robot.left_motor.value = 0.7\n",
    "            robot.right_motor.value = 0.7\n",
    "            RGB.Set_All_RGB(0xFF, 0xFF, 0x00)\n",
    "    \n",
    "    # 实时传回图像数据进行显示\n",
    "    color_image.value = bgr8_to_jpeg(frame)"
   ]
  },
  {
   "cell_type": "code",
   "execution_count": null,
   "metadata": {},
   "outputs": [],
   "source": []
  },
  {
   "cell_type": "code",
   "execution_count": null,
   "metadata": {},
   "outputs": [],
   "source": []
  }
 ],
 "metadata": {
  "kernelspec": {
   "display_name": "Python 3",
   "language": "python",
   "name": "python3"
  },
  "language_info": {
   "codemirror_mode": {
    "name": "ipython",
    "version": 3
   },
   "file_extension": ".py",
   "mimetype": "text/x-python",
   "name": "python",
   "nbconvert_exporter": "python",
   "pygments_lexer": "ipython3",
   "version": "3.6.9"
  }
 },
 "nbformat": 4,
 "nbformat_minor": 4
}
